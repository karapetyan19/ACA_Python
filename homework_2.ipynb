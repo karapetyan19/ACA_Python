{
 "cells": [
  {
   "cell_type": "code",
   "execution_count": 3,
   "metadata": {},
   "outputs": [
    {
     "name": "stdout",
     "output_type": "stream",
     "text": [
      "170009\n"
     ]
    },
    {
     "data": {
      "text/plain": [
       "63"
      ]
     },
     "execution_count": 3,
     "metadata": {},
     "output_type": "execute_result"
    }
   ],
   "source": [
    "# Digit Product\n",
    "def digit_product(number):\n",
    "    result = 1\n",
    "    while number>0:\n",
    "        digit = number % 10\n",
    "        if digit > 0:\n",
    "            result *= digit\n",
    "        number = number // 10\n",
    "    return result\n",
    "\n",
    "\n",
    "digit_product(int(input()))\n",
    "        "
   ]
  },
  {
   "cell_type": "code",
   "execution_count": 8,
   "metadata": {},
   "outputs": [
    {
     "name": "stdout",
     "output_type": "stream",
     "text": [
      "500\n"
     ]
    },
    {
     "data": {
      "text/plain": [
       "243"
      ]
     },
     "execution_count": 8,
     "metadata": {},
     "output_type": "execute_result"
    }
   ],
   "source": [
    "#Largest Power of 3\n",
    "def largest_power_of_three(number):\n",
    "    result=1\n",
    "    while number>=3*result:\n",
    "        result *= 3\n",
    "    return result\n",
    "\n",
    "largest_power_of_three(int(input()))"
   ]
  },
  {
   "cell_type": "code",
   "execution_count": 9,
   "metadata": {},
   "outputs": [
    {
     "name": "stdout",
     "output_type": "stream",
     "text": [
      "2\n",
      "7\n",
      "5\n"
     ]
    },
    {
     "data": {
      "text/plain": [
       "'No Triangle'"
      ]
     },
     "execution_count": 9,
     "metadata": {},
     "output_type": "execute_result"
    }
   ],
   "source": [
    "#Triangle\n",
    "def triangle(a,b,c):\n",
    "    a,b,c = sorted([a,b,c])\n",
    "\n",
    "    if a + b <= c:\n",
    "        return \"No Triangle\"\n",
    "    elif a**2 + b**2 == c**2:\n",
    "        return  \"Right Triangle\"\n",
    "    elif  a**2 + b**2 - c**2 > 0:\n",
    "        return \"Acute Triangle\"\n",
    "    else:\n",
    "        return \"Obtuse Triangle\"\n",
    "        \n",
    "\n",
    "\n",
    "a=int(input())\n",
    "b=int(input())\n",
    "c=int(input())\n",
    "triangle(a,b,c)"
   ]
  },
  {
   "cell_type": "code",
   "execution_count": 11,
   "metadata": {},
   "outputs": [
    {
     "name": "stdout",
     "output_type": "stream",
     "text": [
      "55\n",
      "10\n",
      "1\n"
     ]
    }
   ],
   "source": [
    "def sum_digits(number):\n",
    "    result = 0\n",
    "    while number>0:\n",
    "        result += number%10\n",
    "        number //= 10\n",
    "    return result\n",
    "\n",
    "\n",
    "# The Root of the Number\n",
    "def the_root_of_the_number(number):\n",
    "    while number >= 10:\n",
    "        number = sum_digits(number)\n",
    "        print(number)\n",
    "    return number\n",
    "\n",
    "A = the_root_of_the_number(int(input()))"
   ]
  },
  {
   "cell_type": "code",
   "execution_count": 13,
   "metadata": {},
   "outputs": [
    {
     "name": "stdout",
     "output_type": "stream",
     "text": [
      "10\n"
     ]
    },
    {
     "data": {
      "text/plain": [
       "4"
      ]
     },
     "execution_count": 13,
     "metadata": {},
     "output_type": "execute_result"
    }
   ],
   "source": [
    "# Number Of Divisors\n",
    "def number_of_divisors(number):\n",
    "    result = 0\n",
    "    divisor = 1\n",
    "    while number >= divisor:\n",
    "        if number % divisor  == 0:\n",
    "            result+=1\n",
    "        divisor+=1\n",
    "    return result\n",
    "\n",
    "\n",
    "number_of_divisors(int(input()))"
   ]
  },
  {
   "cell_type": "code",
   "execution_count": 30,
   "metadata": {},
   "outputs": [
    {
     "name": "stdout",
     "output_type": "stream",
     "text": [
      "0\n",
      "0\n",
      "0\n",
      "Non-quadratic equation\n",
      "Infinite solutions\n"
     ]
    }
   ],
   "source": [
    "#Quadratic Equation\n",
    "import math\n",
    "\n",
    "def quadratic_equation(a,b,c):\n",
    "    if a == 0:\n",
    "        print(\"Non-quadratic equation\")\n",
    "        if b == 0 and c!=0:\n",
    "            print(\"No Solutions\")\n",
    "        elif b!=0:\n",
    "            print(\"One solution: {!s}\".format(-c/b))\n",
    "        else:\n",
    "            print(\"Infinite solutions\")\n",
    "    else:\n",
    "        print(\"Quadratic equation\")\n",
    "        D = b * b - 4 * a * c\n",
    "        print(\"Discriminant: {!s}\".format(D))\n",
    "        if D < 0:\n",
    "            print(\"No Solutions\")\n",
    "        elif D == 0:\n",
    "            print(\"One Solutions {!s}\".format(-b / 2 * a))\n",
    "        else:\n",
    "            s_1 = -b+math.sqrt(D)/ 2 * a\n",
    "            s_2 = -b-math.sqrt(D)/ 2 * a\n",
    "            print(\"Two Solutions {!s} {!s}\".format(s_1, s_2))\n",
    "\n",
    "    \n",
    "    \n",
    "    \n",
    "\n",
    "a=float(input())\n",
    "b=float(input())\n",
    "c=float(input())\n",
    "quadratic_equation(a,b,c)"
   ]
  },
  {
   "cell_type": "code",
   "execution_count": null,
   "metadata": {},
   "outputs": [],
   "source": []
  }
 ],
 "metadata": {
  "kernelspec": {
   "display_name": "Python 3",
   "language": "python",
   "name": "python3"
  },
  "language_info": {
   "codemirror_mode": {
    "name": "ipython",
    "version": 3
   },
   "file_extension": ".py",
   "mimetype": "text/x-python",
   "name": "python",
   "nbconvert_exporter": "python",
   "pygments_lexer": "ipython3",
   "version": "3.6.9"
  }
 },
 "nbformat": 4,
 "nbformat_minor": 4
}
