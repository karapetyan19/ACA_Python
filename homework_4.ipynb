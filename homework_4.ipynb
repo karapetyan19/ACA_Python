{
 "cells": [
  {
   "cell_type": "code",
   "execution_count": 1,
   "metadata": {},
   "outputs": [
    {
     "name": "stdout",
     "output_type": "stream",
     "text": [
      "(2, {'testemail@leetcode.com', 'testemail@lee.tcode.com'})\n"
     ]
    }
   ],
   "source": [
    "#  Unique Email Addresses\n",
    "\n",
    "def convert(email):\n",
    "    name, domain = email.split('@')\n",
    "    if '+' in name:\n",
    "        name = name[:name.index('+')]\n",
    "    name = \"\".join(name.split(\".\"))\n",
    "    return \"\".join([name, '@', domain])\n",
    "\n",
    "\n",
    "def unique_email_addresses(emails):\n",
    "    unique_email = set()\n",
    "    for email in emails:\n",
    "        unique_email.add(convert(email))\n",
    "    return len(unique_email), unique_email\n",
    "\n",
    "\n",
    "\n",
    "emails = [\"test.email+alex@leetcode.com\",\"test.e.mail+bob.cathy@leetcode.com\",\"testemail+david@lee.tcode.com\"]\n",
    "# emails = [\"a@leetcode.com\",\"b@leetcode.com\",\"c@leetcode.com\"]\n",
    "\n",
    "print(unique_email_addresses(emails))\n"
   ]
  },
  {
   "cell_type": "code",
   "execution_count": 2,
   "metadata": {},
   "outputs": [
    {
     "data": {
      "text/plain": [
       "['a', 'b', 'c', 'd']"
      ]
     },
     "execution_count": 2,
     "metadata": {},
     "output_type": "execute_result"
    }
   ],
   "source": [
    "# Find and Replace Pattern\n",
    "\n",
    "def checking(word, pattern):\n",
    "    if len(set(list(word))) != len(set(list(pattern))):\n",
    "        return False\n",
    "    real_dict = {}\n",
    "    for index, char in enumerate(word):\n",
    "        if char in real_dict:\n",
    "            if real_dict[char] != pattern[index]:\n",
    "                return False\n",
    "        else:\n",
    "            real_dict[char]=pattern[index]\n",
    "    return word\n",
    "\n",
    "\n",
    "def find_and_eplace_pattern(words, pattern):\n",
    "    possible_replace_words = []\n",
    "    for word in words:\n",
    "        result = checking(word, pattern)\n",
    "        if result:\n",
    "            possible_replace_words.append(word)\n",
    "    return possible_replace_words\n",
    "\n",
    "\n",
    "# words = [\"abc\",\"deq\",\"mee\",\"aqq\",\"dkd\",\"ccc\"]\n",
    "# pattern = \"abb\"\n",
    "words = [\"a\", \"b\", \"c\", \"d\"]\n",
    "pattern = \"a\"\n",
    "find_and_eplace_pattern(words, pattern)     "
   ]
  },
  {
   "cell_type": "code",
   "execution_count": 3,
   "metadata": {},
   "outputs": [
    {
     "data": {
      "text/plain": [
       "[0, 2, 0, 0, 0]"
      ]
     },
     "execution_count": 3,
     "metadata": {},
     "output_type": "execute_result"
    }
   ],
   "source": [
    "#  Finding the Users Active Minutes\n",
    "\n",
    "def finding_the_users_active_minutes(logs, k):\n",
    "        _dict = {}\n",
    "        for i in range(len(logs)):\n",
    "            if logs[i][0] in _dict:\n",
    "                _dict[logs[i][0]] += [logs[i][1]]\n",
    "            else:\n",
    "                _dict[logs[i][0]] = [logs[i][1]]\n",
    "        \n",
    "        acc = [0 for _ in range(k)]\n",
    "        for key in _dict:\n",
    "            acc[len(set(_dict[key]))-1] += 1\n",
    "        return acc\n",
    "\n",
    "\n",
    "\n",
    "logs = [[0,5],[1,2],[0,2],[0,5],[1,3]]; k = 5\n",
    "# logs = [[1,1],[2,2],[2,3]]; k = 4\n",
    "finding_the_users_active_minutes(logs, k)"
   ]
  },
  {
   "cell_type": "code",
   "execution_count": 4,
   "metadata": {},
   "outputs": [
    {
     "data": {
      "text/plain": [
       "0"
      ]
     },
     "execution_count": 4,
     "metadata": {},
     "output_type": "execute_result"
    }
   ],
   "source": [
    "# Jewels and Stones\n",
    "\n",
    "def jewels_and_stones(jewels, stones):\n",
    "    return sum([char in jewels for char in stones])\n",
    "\n",
    "# jewels = \"aA\"; stones = \"aAAbbbb\"\n",
    "jewels = \"z\"; stones = \"ZZ\"\n",
    "jewels_and_stones(jewels, stones)"
   ]
  },
  {
   "cell_type": "code",
   "execution_count": 5,
   "metadata": {},
   "outputs": [
    {
     "data": {
      "text/plain": [
       "2"
      ]
     },
     "execution_count": 5,
     "metadata": {},
     "output_type": "execute_result"
    }
   ],
   "source": [
    "# Beautiful binary string\n",
    "\n",
    "def beautiful_binary_string(acc):\n",
    "    return acc.count(\"010\")\n",
    "\n",
    "beautiful_binary_string(\"01010101\")"
   ]
  },
  {
   "cell_type": "code",
   "execution_count": 6,
   "metadata": {},
   "outputs": [
    {
     "data": {
      "text/plain": [
       "'undefined'"
      ]
     },
     "execution_count": 6,
     "metadata": {},
     "output_type": "execute_result"
    }
   ],
   "source": [
    "# String power\n",
    "\n",
    "def string_power(s, k):\n",
    "    if k < 0:\n",
    "        if s[:abs(k)] * abs(k) == s:\n",
    "            return s[:abs(k)]\n",
    "        else:\n",
    "            return \"undefined\"\n",
    "    else:\n",
    "        return s*k\n",
    "    \n",
    "string_power(\"xyzxyz\", -3)"
   ]
  },
  {
   "cell_type": "code",
   "execution_count": null,
   "metadata": {},
   "outputs": [],
   "source": []
  }
 ],
 "metadata": {
  "kernelspec": {
   "display_name": "Python 3",
   "language": "python",
   "name": "python3"
  },
  "language_info": {
   "codemirror_mode": {
    "name": "ipython",
    "version": 3
   },
   "file_extension": ".py",
   "mimetype": "text/x-python",
   "name": "python",
   "nbconvert_exporter": "python",
   "pygments_lexer": "ipython3",
   "version": "3.6.9"
  }
 },
 "nbformat": 4,
 "nbformat_minor": 4
}
