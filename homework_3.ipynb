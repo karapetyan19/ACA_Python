{
 "cells": [
  {
   "cell_type": "code",
   "execution_count": 1,
   "metadata": {},
   "outputs": [
    {
     "name": "stdout",
     "output_type": "stream",
     "text": [
      "20\n",
      "(3, 17)\n"
     ]
    }
   ],
   "source": [
    "# The Goldbach Conjecture\n",
    "import math\n",
    "\n",
    "def number_is_prime(a):\n",
    "    if a == 1:\n",
    "        return False\n",
    "    b = round(math.sqrt(a))\n",
    "    for i in range(2,b+1):\n",
    "        if a % i == 0:\n",
    "            return False\n",
    "    else:\n",
    "        return True\n",
    "    \n",
    "def goldbach_conjecture(n):\n",
    "    for i in range(2, n//2+1):\n",
    "        if number_is_prime(i) and number_is_prime(n-i):\n",
    "            return i, n-i\n",
    "    \n",
    "\n",
    "\n",
    "n = int(input())\n",
    "print(goldbach_conjecture(n))\n"
   ]
  },
  {
   "cell_type": "code",
   "execution_count": null,
   "metadata": {},
   "outputs": [],
   "source": []
  },
  {
   "cell_type": "code",
   "execution_count": 3,
   "metadata": {},
   "outputs": [
    {
     "name": "stdout",
     "output_type": "stream",
     "text": [
      "13000\n",
      "13500\n",
      "13031\n",
      "13131\n",
      "13231\n",
      "13331\n",
      "13431\n"
     ]
    }
   ],
   "source": [
    "# Palindrome numbers\n",
    "def number_is_palindrome(n):\n",
    "    digits = list(str(n))\n",
    "    for i in range(len(digits)//2):\n",
    "        if digits[i] != digits[len(digits)-i-1]:\n",
    "            return False\n",
    "    else:\n",
    "        return True\n",
    "\n",
    "    \n",
    "a=int(input())\n",
    "b=int(input())\n",
    "for n in range(a,b):\n",
    "    if number_is_palindrome(n):\n",
    "        print(n)"
   ]
  },
  {
   "cell_type": "code",
   "execution_count": null,
   "metadata": {},
   "outputs": [],
   "source": []
  },
  {
   "cell_type": "code",
   "execution_count": 4,
   "metadata": {},
   "outputs": [
    {
     "name": "stdout",
     "output_type": "stream",
     "text": [
      "1 2 3 4 5\n"
     ]
    },
    {
     "data": {
      "text/plain": [
       "[15.0, 14.0, 12.0, 9.0, 5.0]"
      ]
     },
     "execution_count": 4,
     "metadata": {},
     "output_type": "execute_result"
    }
   ],
   "source": [
    "# Suffix Sums\n",
    "def suffix_sums(acc):\n",
    "    sequence = []\n",
    "    for i in range(len(acc)):\n",
    "        sequence.append(sum(acc[i:]))\n",
    "    return sequence\n",
    "    \n",
    "    \n",
    "acc = [float(i) for i in input().split(\" \")]\n",
    "suffix_sums(acc)"
   ]
  },
  {
   "cell_type": "code",
   "execution_count": null,
   "metadata": {},
   "outputs": [],
   "source": []
  },
  {
   "cell_type": "code",
   "execution_count": 5,
   "metadata": {},
   "outputs": [
    {
     "name": "stdout",
     "output_type": "stream",
     "text": [
      "3\n",
      "100\n",
      "9\n",
      "1\n",
      "2\n",
      "[2, 9, 1]\n"
     ]
    }
   ],
   "source": [
    "# Cyclic shift\n",
    "def cyclic_shift(sequence, k):\n",
    "    k = k% len(sequence)\n",
    "    return sequence[-k:]+sequence[:-k]\n",
    "        \n",
    "    \n",
    "    \n",
    "n = int(input())\n",
    "k = int(input())\n",
    "sequence = [int(input()) for _ in range(n)]\n",
    "print(cyclic_shift(sequence, k))"
   ]
  },
  {
   "cell_type": "code",
   "execution_count": null,
   "metadata": {},
   "outputs": [],
   "source": []
  },
  {
   "cell_type": "code",
   "execution_count": 6,
   "metadata": {},
   "outputs": [
    {
     "name": "stdout",
     "output_type": "stream",
     "text": [
      "9\n",
      "     *\n",
      "    ***\n",
      "   *****\n",
      "  *******\n",
      " *********\n"
     ]
    }
   ],
   "source": [
    "# tree\n",
    "def tree(n):\n",
    "    for i in range(1,n+1,2):\n",
    "        j = (n-i)//2\n",
    "        print(\" \"*j, \"*\"*i)\n",
    "    \n",
    "    \n",
    "\n",
    "n= int(input())\n",
    "A = tree(n)"
   ]
  },
  {
   "cell_type": "code",
   "execution_count": null,
   "metadata": {},
   "outputs": [],
   "source": []
  }
 ],
 "metadata": {
  "kernelspec": {
   "display_name": "Python 3",
   "language": "python",
   "name": "python3"
  },
  "language_info": {
   "codemirror_mode": {
    "name": "ipython",
    "version": 3
   },
   "file_extension": ".py",
   "mimetype": "text/x-python",
   "name": "python",
   "nbconvert_exporter": "python",
   "pygments_lexer": "ipython3",
   "version": "3.6.9"
  }
 },
 "nbformat": 4,
 "nbformat_minor": 4
}
