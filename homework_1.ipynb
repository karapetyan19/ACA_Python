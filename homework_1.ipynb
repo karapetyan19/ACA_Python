{
 "cells": [
  {
   "cell_type": "code",
   "execution_count": 1,
   "metadata": {},
   "outputs": [
    {
     "name": "stdout",
     "output_type": "stream",
     "text": [
      "202\n",
      "4\n"
     ]
    }
   ],
   "source": [
    "# Digit Sum 3\n",
    "a=int(input())\n",
    "\n",
    "print(a//100%10+a//10%10+a%10)"
   ]
  },
  {
   "cell_type": "code",
   "execution_count": 2,
   "metadata": {},
   "outputs": [
    {
     "name": "stdout",
     "output_type": "stream",
     "text": [
      "5\n",
      "5\n",
      "12.5\n"
     ]
    }
   ],
   "source": [
    "# Area of a right triangle\n",
    "leg_1=int(input())\n",
    "leg_2=int(input())\n",
    "\n",
    "print(leg_1*leg_2/2)"
   ]
  },
  {
   "cell_type": "code",
   "execution_count": 4,
   "metadata": {},
   "outputs": [
    {
     "name": "stdout",
     "output_type": "stream",
     "text": [
      "9\n",
      "4\n",
      "2\n",
      "4\n"
     ]
    }
   ],
   "source": [
    "# Arithmetic Progression \n",
    "a_1 = int(input())\n",
    "a_2 = int(input())\n",
    "n = int(input())\n",
    "\n",
    "b = a_2 - a_1\n",
    "print(a_1 + (n-1)*b)\n"
   ]
  },
  {
   "cell_type": "code",
   "execution_count": 5,
   "metadata": {},
   "outputs": [
    {
     "name": "stdout",
     "output_type": "stream",
     "text": [
      "45\n",
      "1\n"
     ]
    }
   ],
   "source": [
    "# century from year\n",
    "year=int(input())\n",
    "\n",
    "print((year+99)//100)\n"
   ]
  },
  {
   "cell_type": "code",
   "execution_count": 6,
   "metadata": {},
   "outputs": [
    {
     "name": "stdout",
     "output_type": "stream",
     "text": [
      "4\n",
      "7\n",
      "6 3\n"
     ]
    }
   ],
   "source": [
    "# Two men\n",
    "\n",
    "first_man_has_shot=int(input())\n",
    "second_man_has_shot=int(input())\n",
    "\n",
    "print(second_man_has_shot-1, first_man_has_shot-1)"
   ]
  },
  {
   "cell_type": "code",
   "execution_count": 7,
   "metadata": {},
   "outputs": [
    {
     "name": "stdout",
     "output_type": "stream",
     "text": [
      "6\n",
      "4\n",
      "8 5\n",
      "8 3\n",
      "4 5\n",
      "4 3\n",
      "7 6\n",
      "7 2\n",
      "5 6\n",
      "5 2\n"
     ]
    }
   ],
   "source": [
    "# Knight’s Possible Moves\n",
    "px=int(input())\n",
    "py=int(input())\n",
    "\n",
    "# It is guaranteed that\n",
    "# for a given input cell all 8 moves exist.\n",
    "\n",
    "print(px+2,py+1)\n",
    "print(px+2,py-1)\n",
    "print(px-2,py+1)\n",
    "print(px-2,py-1)\n",
    "\n",
    "print(px+1,py+2)\n",
    "print(px+1,py-2)\n",
    "print(px-1,py+2)\n",
    "print(px-1,py-2)\n"
   ]
  },
  {
   "cell_type": "code",
   "execution_count": null,
   "metadata": {},
   "outputs": [],
   "source": []
  }
 ],
 "metadata": {
  "kernelspec": {
   "display_name": "Python 3",
   "language": "python",
   "name": "python3"
  },
  "language_info": {
   "codemirror_mode": {
    "name": "ipython",
    "version": 3
   },
   "file_extension": ".py",
   "mimetype": "text/x-python",
   "name": "python",
   "nbconvert_exporter": "python",
   "pygments_lexer": "ipython3",
   "version": "3.6.9"
  }
 },
 "nbformat": 4,
 "nbformat_minor": 4
}
